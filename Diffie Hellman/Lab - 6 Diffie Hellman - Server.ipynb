{
 "cells": [
  {
   "cell_type": "markdown",
   "id": "a6ee5fc2",
   "metadata": {},
   "source": [
    "# Lab Task 6"
   ]
  },
  {
   "cell_type": "markdown",
   "id": "02e4b024",
   "metadata": {},
   "source": [
    "1) Add, subtract, multiply and divide two very large numbers"
   ]
  },
  {
   "cell_type": "code",
   "execution_count": 1,
   "id": "e10987cc",
   "metadata": {
    "scrolled": true
   },
   "outputs": [
    {
     "name": "stdout",
     "output_type": "stream",
     "text": [
      "Enter first num : 182841384165841685416854134135\n",
      "Enter second num: 135481653441354138548413384135\n",
      "\n",
      "Addition       :  318323037607195823965267518270\n",
      "Subtraction    :  47359730724487546868440750000\n",
      "Multiplication :  24771653044294059276095960514433194967998354496640570948225\n",
      "Division       :  1.3495656387526163\n"
     ]
    }
   ],
   "source": [
    "a = int(input(\"Enter first num : \"))\n",
    "b = int(input(\"Enter second num: \"))\n",
    "print()\n",
    "print(\"Addition       : \",a+b)\n",
    "print(\"Subtraction    : \",a-b)\n",
    "print(\"Multiplication : \",a*b)\n",
    "print(\"Division       : \",a/b)"
   ]
  },
  {
   "cell_type": "markdown",
   "id": "3b5fed19",
   "metadata": {},
   "source": [
    "2) Perform modular division between two very large numbers\n",
    "\n",
    "Take input as:\n",
    "- a = 182841384165841685416854134135\n",
    "- b = 135481653441354138548413384135"
   ]
  },
  {
   "cell_type": "code",
   "execution_count": 2,
   "id": "516ed543",
   "metadata": {},
   "outputs": [
    {
     "data": {
      "text/plain": [
       "47359730724487546868440750000"
      ]
     },
     "execution_count": 2,
     "metadata": {},
     "output_type": "execute_result"
    }
   ],
   "source": [
    "def extended_gcd(a,b):\n",
    "    if b == 0:\n",
    "        return a,1,0\n",
    "    gcd, x1, y1 = extended_gcd(b, a % b)\n",
    "    x = y1\n",
    "    y = x1-(a // b)*y1\n",
    "    return gcd,x,y\n",
    "\n",
    "def mod_division(a,b,m):\n",
    "    gcd, x, y = extended_gcd(b,m)\n",
    "    inverse_b = x % m\n",
    "    return (a * inverse_b) % m\n",
    "\n",
    "a = 182841384165841685416854134135\n",
    "b = 135481653441354138548413384135\n",
    "mod_division(a,1,b)"
   ]
  },
  {
   "cell_type": "markdown",
   "id": "20680bb8",
   "metadata": {},
   "source": [
    "### Use Big integer arithmetic to solve the following:\n",
    "\n",
    "3) Write a program to implement Diffie – Hellman Key exchange algorithm\n",
    "4) Write a client server program to implement end to end encryption using Diffie Hellman key exchange algorithm and encryption mechanism of your choice."
   ]
  },
  {
   "cell_type": "markdown",
   "id": "24e78164",
   "metadata": {},
   "source": [
    "# Diffie Hellman Server"
   ]
  },
  {
   "cell_type": "code",
   "execution_count": 3,
   "id": "e3a8cbdb",
   "metadata": {},
   "outputs": [],
   "source": [
    "import random\n",
    "from Crypto.Cipher import AES \n",
    "from Crypto.Util.Padding import pad, unpad\n",
    "import socket"
   ]
  },
  {
   "cell_type": "code",
   "execution_count": 4,
   "id": "0fdd788d",
   "metadata": {},
   "outputs": [],
   "source": [
    "def modular_exponentiation(base, e, modulus):\n",
    "    res = 1\n",
    "    base %= modulus\n",
    "    while e > 0:\n",
    "        if e % 2 == 1: res = (res*base)%modulus\n",
    "        e = e // 2 \n",
    "        base = (base*base)%modulus \n",
    "    return res\n",
    "\n",
    "def format_key(key):\n",
    "    return key.ljust(16)[:16].encode()\n",
    "\n",
    "def encrypt(message, key):\n",
    "    key = format_key(key)  \n",
    "    iv = b'1234567890123456'\n",
    "    cipher = AES.new(key, AES.MODE_CBC, iv)\n",
    "    return cipher.encrypt(pad(message.encode(), AES.block_size))\n",
    "\n",
    "def decrypt(ciphertext, key):\n",
    "    key = format_key(key)\n",
    "    iv = b'1234567890123456'\n",
    "    cipher = AES.new(key, AES.MODE_CBC, iv)\n",
    "    return unpad(cipher.decrypt(ciphertext), AES.block_size).decode()\n",
    "\n",
    "def diffieHellman(g,n):\n",
    "    x=random.randint(1,n-1)\n",
    "    k1=modular_exponentiation(g,x,n)\n",
    "    conn.send(str(k1).encode())\n",
    "    k2=int(conn.recv(1024).decode())\n",
    "    return str(modular_exponentiation(k2,x,n))"
   ]
  },
  {
   "cell_type": "code",
   "execution_count": 5,
   "id": "1a3c0d00",
   "metadata": {},
   "outputs": [
    {
     "name": "stdout",
     "output_type": "stream",
     "text": [
      "Server is listening...\n",
      "Connected to ('192.168.29.227', 56130)\n",
      "Before decrytion:  b'\\x02i\\xbf\\x02\\xa6\\xfd\\xa6T\\x8c\\xbf\\xfcq\\xb4\\xdbR\\xaa'\n",
      "Received: hi\n",
      "Enter message : hello\n",
      "Before decrytion:  b'\\xf1\\xfd\\x87\\xab;+4Df\\xb6\\xe5\\x8a\\xba\\xe3\\x9bP\\xb5\\xf7\\x89\\x1fE\\x050\\xc7\\n4\\xff\\xc4J\\xb5\\xc7/'\n",
      "Received: This is a secret message\n",
      "Enter message : okay\n",
      "Before decrytion:  b'\\x95b\\x80\\x14T\\x91s\\x87^nT^\\xf7\\x88P\\xae'\n",
      "Connection closed.\n"
     ]
    }
   ],
   "source": [
    "server=socket.socket(socket.AF_INET,socket.SOCK_STREAM)\n",
    "server.bind((\"192.168.29.227\", 1234))\n",
    "server.listen(1)\n",
    "\n",
    "print(\"Server is listening...\")\n",
    "\n",
    "conn,addr = server.accept()\n",
    "print(\"Connected to\",addr)\n",
    "    \n",
    "key = diffieHellman(a,b)\n",
    "\n",
    "while True:\n",
    "    data_before=conn.recv(1024)\n",
    "    print(\"Before decrytion: \",data_before)\n",
    "    \n",
    "    data = decrypt(data_before,key)\n",
    "    if data.lower() == \"quit\":\n",
    "        print(\"Connection closed.\")\n",
    "        break\n",
    "    print(f\"Received: {data}\")\n",
    "    \n",
    "    msg1=input(\"Enter message : \")\n",
    "    conn.send((encrypt(msg1,key)))\n",
    "    \n",
    "conn.close()\n",
    "server.close()"
   ]
  },
  {
   "cell_type": "code",
   "execution_count": null,
   "id": "07ab566b",
   "metadata": {},
   "outputs": [],
   "source": []
  }
 ],
 "metadata": {
  "kernelspec": {
   "display_name": "Python 3 (ipykernel)",
   "language": "python",
   "name": "python3"
  },
  "language_info": {
   "codemirror_mode": {
    "name": "ipython",
    "version": 3
   },
   "file_extension": ".py",
   "mimetype": "text/x-python",
   "name": "python",
   "nbconvert_exporter": "python",
   "pygments_lexer": "ipython3",
   "version": "3.11.4"
  }
 },
 "nbformat": 4,
 "nbformat_minor": 5
}
