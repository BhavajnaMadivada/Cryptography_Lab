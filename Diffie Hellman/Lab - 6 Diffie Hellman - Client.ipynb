{
 "cells": [
  {
   "cell_type": "markdown",
   "id": "a6ee5fc2",
   "metadata": {},
   "source": [
    "# Lab Task 6"
   ]
  },
  {
   "cell_type": "markdown",
   "id": "20680bb8",
   "metadata": {},
   "source": [
    "### Use Big integer arithmetic to solve the following:\n",
    "\n",
    "3) Write a program to implement Diffie – Hellman Key exchange algorithm\n",
    "4) Write a client server program to implement end to end encryption using Diffie Hellman key exchange algorithm and encryption mechanism of your choice."
   ]
  },
  {
   "cell_type": "markdown",
   "id": "97cab457",
   "metadata": {},
   "source": [
    "# Diffie Hellman Client"
   ]
  },
  {
   "cell_type": "code",
   "execution_count": 1,
   "id": "e3a8cbdb",
   "metadata": {},
   "outputs": [],
   "source": [
    "import random\n",
    "from Crypto.Cipher import AES \n",
    "from Crypto.Util.Padding import pad, unpad\n",
    "import socket"
   ]
  },
  {
   "cell_type": "code",
   "execution_count": 2,
   "id": "0fdd788d",
   "metadata": {},
   "outputs": [],
   "source": [
    "def modular_exponentiation(base, e, modulus):\n",
    "    res = 1\n",
    "    base %= modulus\n",
    "    while e > 0:\n",
    "        if e % 2 == 1: res = (res*base)%modulus\n",
    "        e = e // 2 \n",
    "        base = (base*base)%modulus \n",
    "    return res\n",
    "\n",
    "def format_key(key):\n",
    "    return key.ljust(16)[:16].encode()\n",
    "\n",
    "def encrypt(message, key):\n",
    "    key = format_key(key)  \n",
    "    iv = b'1234567890123456'\n",
    "    cipher = AES.new(key, AES.MODE_CBC, iv)\n",
    "    return cipher.encrypt(pad(message.encode(), AES.block_size))\n",
    "\n",
    "def decrypt(ciphertext, key):\n",
    "    key = format_key(key)\n",
    "    iv = b'1234567890123456'\n",
    "    cipher = AES.new(key, AES.MODE_CBC, iv)\n",
    "    return unpad(cipher.decrypt(ciphertext), AES.block_size).decode()\n",
    "\n",
    "def diffieHellman(g,n):\n",
    "    x=random.randint(1,n-1)\n",
    "    k1=modular_exponentiation(g,x,n)\n",
    "    k2=int(client.recv(1024).decode())\n",
    "    client.send(str(k1).encode())\n",
    "    return str(modular_exponentiation(k2,x,n))"
   ]
  },
  {
   "cell_type": "code",
   "execution_count": 3,
   "id": "1a3c0d00",
   "metadata": {},
   "outputs": [
    {
     "name": "stdout",
     "output_type": "stream",
     "text": [
      "Enter message: hi\n",
      "Before decryption:  b'\\x95\\xa1\\x11\\xfb%\\r\\xaf\\xdcN#\\xc7u\\x986\\xaf\\x87'\n",
      "Received: hello\n",
      "Enter message: This is a secret message\n",
      "Before decryption:  b'\\xf9\\x83\\xb8hP\\xcczC\\xf9\\x95AD\\xc2?ci'\n",
      "Received: okay\n",
      "Enter message: quit\n"
     ]
    }
   ],
   "source": [
    "client=socket.socket(socket.AF_INET,socket.SOCK_STREAM)\n",
    "client.connect((\"192.168.29.227\", 1234))\n",
    "    \n",
    "a = 182841384165841685416854134135\n",
    "b = 135481653441354138548413384135\n",
    "key = diffieHellman(a,b)\n",
    "\n",
    "while True:\n",
    "    msg = input(\"Enter message: \")\n",
    "    client.send(encrypt(msg, str(key)))\n",
    "        \n",
    "    if msg.lower() == \"quit\":\n",
    "        break\n",
    "\n",
    "    data_before = client.recv(1024)\n",
    "    print(\"Before decryption: \", data_before)\n",
    "    data = decrypt(data_before, str(key))\n",
    "    print(f\"Received: {data}\")\n",
    "\n",
    "client.close()"
   ]
  },
  {
   "cell_type": "code",
   "execution_count": null,
   "id": "07ab566b",
   "metadata": {},
   "outputs": [],
   "source": []
  }
 ],
 "metadata": {
  "kernelspec": {
   "display_name": "Python 3 (ipykernel)",
   "language": "python",
   "name": "python3"
  },
  "language_info": {
   "codemirror_mode": {
    "name": "ipython",
    "version": 3
   },
   "file_extension": ".py",
   "mimetype": "text/x-python",
   "name": "python",
   "nbconvert_exporter": "python",
   "pygments_lexer": "ipython3",
   "version": "3.11.4"
  }
 },
 "nbformat": 4,
 "nbformat_minor": 5
}
