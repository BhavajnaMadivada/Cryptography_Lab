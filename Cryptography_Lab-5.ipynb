{
 "cells": [
  {
   "cell_type": "markdown",
   "id": "d8eb814a",
   "metadata": {},
   "source": [
    "# RSA Algorithm"
   ]
  },
  {
   "cell_type": "markdown",
   "id": "832e682e",
   "metadata": {},
   "source": [
    "1. Write a program to implement RSA algorithm for key-Generation"
   ]
  },
  {
   "cell_type": "code",
   "execution_count": 7,
   "id": "5e603f23",
   "metadata": {},
   "outputs": [
    {
     "name": "stdout",
     "output_type": "stream",
     "text": [
      "Enter large prime number 1: 1033\n",
      "Enter large prime number 2: 1039\n",
      "Public Key : ( 5 , 1073287 )\n",
      "Private Key : ( 856973 )\n"
     ]
    }
   ],
   "source": [
    "import math\n",
    "p=int(input(\"Enter large prime number 1: \"))\n",
    "q=int(input(\"Enter large prime number 2: \"))\n",
    "n=p*q\n",
    "phi=(p-1)*(q-1)\n",
    "for i in range(2,phi):\n",
    "    if(math.gcd(phi,i)==1): \n",
    "        e=i\n",
    "        break\n",
    "print(\"Public Key : (\",e,\",\",n,\")\")\n",
    "d=pow(e,-1,phi)\n",
    "print(\"Private Key : (\",d,\")\")"
   ]
  },
  {
   "cell_type": "markdown",
   "id": "929320b0",
   "metadata": {},
   "source": [
    "2. Use solution of question 1 to implement encryption and decryption process to encrypt a number and an alphabet"
   ]
  },
  {
   "cell_type": "code",
   "execution_count": 8,
   "id": "75cd9422",
   "metadata": {},
   "outputs": [],
   "source": [
    "def Encrypt_RSA(plain,e,n):\n",
    "    t = ord(plain)\n",
    "    cipher = pow(t,e,n)\n",
    "    return cipher\n",
    "    \n",
    "def Decrypt_RSA(cipher,d,n):\n",
    "    decrypt = pow(cipher,d,n)\n",
    "    return decrypt"
   ]
  },
  {
   "cell_type": "code",
   "execution_count": 9,
   "id": "4e8c9bb9",
   "metadata": {},
   "outputs": [
    {
     "name": "stdout",
     "output_type": "stream",
     "text": [
      "Enter a digit or alphabet to encrypt : A\n",
      "After Encryption:  67378\n",
      "After Decryption:  A\n"
     ]
    }
   ],
   "source": [
    "plain_text = input(\"Enter a digit or alphabet to encrypt : \")\n",
    "cipher = Encrypt_RSA(plain_text,e,n)\n",
    "print(\"After Encryption: \",cipher)\n",
    "decrypt = Decrypt_RSA(cipher,d,n)\n",
    "print(\"After Decryption: \",chr(decrypt))"
   ]
  },
  {
   "cell_type": "markdown",
   "id": "4eb454c4",
   "metadata": {},
   "source": [
    "## RSA Usecases"
   ]
  },
  {
   "cell_type": "markdown",
   "id": "866a5542",
   "metadata": {},
   "source": [
    "- Secure communication\n",
    "- Authentication using Digital signatures\n",
    "- Email encryption"
   ]
  },
  {
   "cell_type": "code",
   "execution_count": null,
   "id": "f76a80ed",
   "metadata": {},
   "outputs": [],
   "source": []
  }
 ],
 "metadata": {
  "kernelspec": {
   "display_name": "Python 3 (ipykernel)",
   "language": "python",
   "name": "python3"
  },
  "language_info": {
   "codemirror_mode": {
    "name": "ipython",
    "version": 3
   },
   "file_extension": ".py",
   "mimetype": "text/x-python",
   "name": "python",
   "nbconvert_exporter": "python",
   "pygments_lexer": "ipython3",
   "version": "3.11.4"
  }
 },
 "nbformat": 4,
 "nbformat_minor": 5
}
