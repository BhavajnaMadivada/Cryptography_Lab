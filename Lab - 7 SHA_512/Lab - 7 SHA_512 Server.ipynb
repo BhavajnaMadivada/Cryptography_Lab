{
 "cells": [
  {
   "cell_type": "markdown",
   "id": "002f50d0",
   "metadata": {},
   "source": [
    "# Lab Task - 7\n",
    "1) Write a program to generate Hash code for a given text using SHA 512\n",
    "2) Write a program to send a message ensuring confidentiality and integrity"
   ]
  },
  {
   "cell_type": "code",
   "execution_count": 21,
   "id": "e014eade",
   "metadata": {},
   "outputs": [
    {
     "name": "stdout",
     "output_type": "stream",
     "text": [
      "Enter plaintext data: This is going to be hashed\n",
      "2666bf331ea36a8b4f480880307293e2f65c5490c789b45be8fcd1bdf1644a4c708785d618db445f090efe2f1275663193274906b19a7e6e7f7dea693a7c4ad6\n"
     ]
    }
   ],
   "source": [
    "from hashlib import sha512\n",
    "def hash512(data):\n",
    "    output = sha512(data.encode()).hexdigest()\n",
    "    return (output)\n",
    "data = input('Enter plaintext data: ')\n",
    "print(hash512(data))"
   ]
  },
  {
   "cell_type": "markdown",
   "id": "68610d76",
   "metadata": {},
   "source": [
    "# Server"
   ]
  },
  {
   "cell_type": "code",
   "execution_count": 13,
   "id": "67537dfc",
   "metadata": {},
   "outputs": [],
   "source": [
    "from Crypto.Cipher import AES \n",
    "from Crypto.Util.Padding import pad, unpad\n",
    "import socket\n",
    "from cryptography.hazmat.primitives.asymmetric import ec\n",
    "from cryptography.hazmat.primitives import serialization\n",
    "\n",
    "def format_key(key):\n",
    "    return key.ljust(16)[:16].encode()\n",
    "\n",
    "def encrypt(message, key):\n",
    "    key = format_key(key)  \n",
    "    iv = b'1234567890123456'\n",
    "    cipher = AES.new(key, AES.MODE_CBC, iv)\n",
    "    return cipher.encrypt(pad(message.encode(), AES.block_size))\n",
    "\n",
    "def decrypt(ciphertext, key):\n",
    "    key = format_key(key)\n",
    "    iv = b'1234567890123456'\n",
    "    cipher = AES.new(key, AES.MODE_CBC, iv)\n",
    "    return unpad(cipher.decrypt(ciphertext), AES.block_size).decode()"
   ]
  },
  {
   "cell_type": "code",
   "execution_count": 20,
   "id": "e06c1f68",
   "metadata": {},
   "outputs": [
    {
     "name": "stdout",
     "output_type": "stream",
     "text": [
      "Server listening on port 12345...\n",
      "Connection established with ('127.0.0.1', 51004)\n",
      "Server derived shared secret key: 3c859a3f900095db5248b45c8410ca1bdafbb2144b486f51ccbab4079c465d03\n",
      "Enter plaintext data: hello client\n"
     ]
    }
   ],
   "source": [
    "def server():\n",
    "    server = socket.socket(socket.AF_INET, socket.SOCK_STREAM)\n",
    "    server.bind(('localhost', 1234))\n",
    "    server.listen(1)\n",
    "    print(\"Server listening on port 1234...\")\n",
    "    \n",
    "    conn, addr = server.accept()\n",
    "    print(f\"Connection established with {addr}\")\n",
    "    \n",
    "    server_private_key = ec.generate_private_key(ec.SECP256R1())\n",
    "    server_public_key = server_private_key.public_key()\n",
    "\n",
    "    server_public_bytes = server_public_key.public_bytes(\n",
    "        encoding=serialization.Encoding.PEM,\n",
    "        format=serialization.PublicFormat.SubjectPublicKeyInfo\n",
    "    )\n",
    "    conn.sendall(server_public_bytes)\n",
    "\n",
    "    client_public_bytes = conn.recv(1024)\n",
    "    client_public_key = serialization.load_pem_public_key(client_public_bytes)\n",
    "\n",
    "    shared_secret = server_private_key.exchange(ec.ECDH(), client_public_key)\n",
    "    print(\"Server derived shared secret key:\", shared_secret.hex())\n",
    "    \n",
    "    data = input('Enter plaintext data: ')\n",
    "    hashcode = hash512(data)\n",
    "    text = data +'***'+ hashcode\n",
    "    \n",
    "    encrypted_text = encrypt(text, shared_secret.hex())\n",
    "    conn.sendall(encrypted_text)\n",
    "    \n",
    "    conn.close()\n",
    "    server.close()\n",
    "\n",
    "server()"
   ]
  },
  {
   "cell_type": "code",
   "execution_count": null,
   "id": "a3d72b20",
   "metadata": {},
   "outputs": [],
   "source": []
  }
 ],
 "metadata": {
  "kernelspec": {
   "display_name": "Python 3 (ipykernel)",
   "language": "python",
   "name": "python3"
  },
  "language_info": {
   "codemirror_mode": {
    "name": "ipython",
    "version": 3
   },
   "file_extension": ".py",
   "mimetype": "text/x-python",
   "name": "python",
   "nbconvert_exporter": "python",
   "pygments_lexer": "ipython3",
   "version": "3.11.4"
  }
 },
 "nbformat": 4,
 "nbformat_minor": 5
}
