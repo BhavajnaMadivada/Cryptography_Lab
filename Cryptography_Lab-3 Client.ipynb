{
 "cells": [
  {
   "cell_type": "markdown",
   "id": "6fc7e7c2",
   "metadata": {},
   "source": [
    "# Lab Task 3 - Client"
   ]
  },
  {
   "cell_type": "markdown",
   "id": "2e0bbd1d",
   "metadata": {},
   "source": [
    "1. Modify the client server program, use  AES to encrypt the communication, encrypt data at the client end and decrypt it at the servicer side and vice versa.(You can use python library to implement this lab task)"
   ]
  },
  {
   "cell_type": "code",
   "execution_count": 1,
   "id": "c837747e",
   "metadata": {},
   "outputs": [],
   "source": [
    "from Crypto.Cipher import AES \n",
    "from Crypto.Util.Padding import pad, unpad\n",
    "import socket\n",
    "\n",
    "def format_key(key):\n",
    "    return key.ljust(16)[:16].encode()\n",
    "\n",
    "def encrypt(message, key):\n",
    "    key = format_key(key)  \n",
    "    iv = b'1234567890123456'\n",
    "    cipher = AES.new(key, AES.MODE_CBC, iv)\n",
    "    return cipher.encrypt(pad(message.encode(), AES.block_size))\n",
    "\n",
    "def decrypt(ciphertext, key):\n",
    "    key = format_key(key)\n",
    "    iv = b'1234567890123456'\n",
    "    cipher = AES.new(key, AES.MODE_CBC, iv)\n",
    "    return unpad(cipher.decrypt(ciphertext), AES.block_size).decode()"
   ]
  },
  {
   "cell_type": "code",
   "execution_count": 2,
   "id": "0658900a",
   "metadata": {},
   "outputs": [
    {
     "name": "stdout",
     "output_type": "stream",
     "text": [
      "Connected to server.\n",
      "Enter message (type 'quit' to exit): hii\n",
      "Server: hello\n",
      "Enter message (type 'quit' to exit): how are you\n",
      "Server: I am fine\n",
      "Enter message (type 'quit' to exit): quit\n"
     ]
    }
   ],
   "source": [
    "client = socket.socket(socket.AF_INET, socket.SOCK_STREAM)\n",
    "client.connect((\"127.0.0.1\", 12345))\n",
    "\n",
    "print(\"Connected to server.\")\n",
    "\n",
    "while True:\n",
    "    message=input(\"Enter message (type 'quit' to exit): \").lower()\n",
    "    key=\"secretkey\"\n",
    "    encrypted_msg=encrypt(message,key)\n",
    "    client.send(encrypted_msg)  \n",
    "    if message == \"quit\":\n",
    "        break\n",
    "\n",
    "    response = decrypt(client.recv(1024), key)\n",
    "    print(\"Server:\", response)\n",
    "\n",
    "client.close()"
   ]
  },
  {
   "cell_type": "code",
   "execution_count": null,
   "id": "cfd86179",
   "metadata": {},
   "outputs": [],
   "source": []
  }
 ],
 "metadata": {
  "kernelspec": {
   "display_name": "Python 3 (ipykernel)",
   "language": "python",
   "name": "python3"
  },
  "language_info": {
   "codemirror_mode": {
    "name": "ipython",
    "version": 3
   },
   "file_extension": ".py",
   "mimetype": "text/x-python",
   "name": "python",
   "nbconvert_exporter": "python",
   "pygments_lexer": "ipython3",
   "version": "3.11.4"
  }
 },
 "nbformat": 4,
 "nbformat_minor": 5
}
