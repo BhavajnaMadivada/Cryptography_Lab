{
 "cells": [
  {
   "cell_type": "markdown",
   "id": "950acbad",
   "metadata": {},
   "source": [
    "# Lab Task 3 - Server"
   ]
  },
  {
   "cell_type": "markdown",
   "id": "61bf2fd6",
   "metadata": {},
   "source": [
    "1. Modify the client server program, use  AES to encrypt the communication, encrypt data at the client end and decrypt it at the servicer side and vice versa.(You can use python library to implement this lab task)"
   ]
  },
  {
   "cell_type": "code",
   "execution_count": 1,
   "id": "adddd786",
   "metadata": {},
   "outputs": [],
   "source": [
    "from Crypto.Cipher import AES \n",
    "from Crypto.Util.Padding import pad, unpad\n",
    "import socket\n",
    "\n",
    "def format_key(key):\n",
    "    return key.ljust(16)[:16].encode()\n",
    "\n",
    "def encrypt(message, key):\n",
    "    key = format_key(key)  \n",
    "    iv = b'1234567890123456'\n",
    "    cipher = AES.new(key, AES.MODE_CBC, iv)\n",
    "    return cipher.encrypt(pad(message.encode(), AES.block_size))\n",
    "\n",
    "def decrypt(ciphertext, key):\n",
    "    key = format_key(key)\n",
    "    iv = b'1234567890123456'\n",
    "    cipher = AES.new(key, AES.MODE_CBC, iv)\n",
    "    return unpad(cipher.decrypt(ciphertext), AES.block_size).decode()"
   ]
  },
  {
   "cell_type": "code",
   "execution_count": 2,
   "id": "5d33a066",
   "metadata": {},
   "outputs": [
    {
     "name": "stdout",
     "output_type": "stream",
     "text": [
      "Server is listening...\n",
      "Connected to ('127.0.0.1', 52453)\n",
      "Before decrytion:  b'zP\\\\\\xe9\\xfdv\\xd5\\x11=\\xa7\\x88\\xe3\\x80\\xba\\x8f\\xba'\n",
      "Received: hii\n",
      "Enter message : hello\n",
      "Before decrytion:  b'\\x19\\xcc\\xedA_\\x95 \\t\\xced u\\xfa\\xe0Ny'\n",
      "Received: how are you\n",
      "Enter message : I am fine\n",
      "Before decrytion:  b\"\\xb7n'b1\\x97\\xeb\\x962\\x90\\x7f\\xac`\\x1c\\x08\\xc5\"\n",
      "Connection closed.\n"
     ]
    }
   ],
   "source": [
    "import socket\n",
    "\n",
    "server=socket.socket(socket.AF_INET,socket.SOCK_STREAM)\n",
    "server.bind((\"127.0.0.1\", 12345))\n",
    "server.listen(1)\n",
    "\n",
    "print(\"Server is listening...\")\n",
    "\n",
    "conn,addr = server.accept()\n",
    "print(\"Connected to\",addr)\n",
    "\n",
    "key = \"secretkey\"\n",
    "\n",
    "while True:\n",
    "    data_before=conn.recv(1024)\n",
    "    print(\"Before decrytion: \",data_before)\n",
    "    \n",
    "    data = decrypt(data_before,key)\n",
    "    if data.lower() == \"quit\":\n",
    "        print(\"Connection closed.\")\n",
    "        break\n",
    "    print(f\"Received: {data}\")\n",
    "    \n",
    "    msg1=input(\"Enter message : \")\n",
    "    conn.send((encrypt(msg1,key)))\n",
    "\n",
    "conn.close()\n",
    "server.close()"
   ]
  },
  {
   "cell_type": "code",
   "execution_count": null,
   "id": "87f7a57d",
   "metadata": {},
   "outputs": [],
   "source": []
  }
 ],
 "metadata": {
  "kernelspec": {
   "display_name": "Python 3 (ipykernel)",
   "language": "python",
   "name": "python3"
  },
  "language_info": {
   "codemirror_mode": {
    "name": "ipython",
    "version": 3
   },
   "file_extension": ".py",
   "mimetype": "text/x-python",
   "name": "python",
   "nbconvert_exporter": "python",
   "pygments_lexer": "ipython3",
   "version": "3.11.4"
  }
 },
 "nbformat": 4,
 "nbformat_minor": 5
}
