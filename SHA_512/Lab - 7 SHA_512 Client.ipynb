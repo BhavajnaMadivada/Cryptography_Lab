{
 "cells": [
  {
   "cell_type": "markdown",
   "id": "2ccd2b6c",
   "metadata": {},
   "source": [
    "# Lab - 7 \n",
    "## SHA_512 Client"
   ]
  },
  {
   "cell_type": "code",
   "execution_count": 8,
   "id": "efcdcfe1",
   "metadata": {},
   "outputs": [],
   "source": [
    "from Crypto.Cipher import AES \n",
    "from Crypto.Util.Padding import pad, unpad\n",
    "import socket\n",
    "from hashlib import sha512\n",
    "\n",
    "def format_key(key):\n",
    "    return key.ljust(16)[:16].encode()\n",
    "\n",
    "def encrypt(message, key):\n",
    "    key = format_key(key)  \n",
    "    iv = b'1234567890123456'\n",
    "    cipher = AES.new(key, AES.MODE_CBC, iv)\n",
    "    return cipher.encrypt(pad(message.encode(), AES.block_size))\n",
    "\n",
    "def decrypt(ciphertext, key):\n",
    "    key = format_key(key)\n",
    "    iv = b'1234567890123456'\n",
    "    cipher = AES.new(key, AES.MODE_CBC, iv)\n",
    "    return unpad(cipher.decrypt(ciphertext), AES.block_size).decode()\n",
    "\n",
    "def hash512(data):\n",
    "    output = sha512(data.encode()).hexdigest()\n",
    "    return (output)"
   ]
  },
  {
   "cell_type": "code",
   "execution_count": 9,
   "id": "80dc26cf",
   "metadata": {},
   "outputs": [
    {
     "name": "stdout",
     "output_type": "stream",
     "text": [
      "Client derived shared secret: 3c859a3f900095db5248b45c8410ca1bdafbb2144b486f51ccbab4079c465d03\n",
      "Integrity is maintained!\n",
      "Your message:  hello client\n"
     ]
    }
   ],
   "source": [
    "import socket\n",
    "from cryptography.hazmat.primitives.asymmetric import ec\n",
    "from cryptography.hazmat.primitives import serialization\n",
    "\n",
    "def client():\n",
    "    client = socket.socket(socket.AF_INET, socket.SOCK_STREAM)\n",
    "    client.connect(('localhost', 1234))\n",
    "\n",
    "    client_private_key = ec.generate_private_key(ec.SECP256R1())\n",
    "    client_public_key = client_private_key.public_key()\n",
    "\n",
    "    server_public_bytes = client.recv(1024)\n",
    "    server_public_key = serialization.load_pem_public_key(server_public_bytes)\n",
    "\n",
    "    client_public_bytes = client_public_key.public_bytes(\n",
    "        encoding=serialization.Encoding.PEM,\n",
    "        format=serialization.PublicFormat.SubjectPublicKeyInfo\n",
    "    )\n",
    "    client.sendall(client_public_bytes)\n",
    "    \n",
    "    shared_secret = client_private_key.exchange(ec.ECDH(), server_public_key)\n",
    "    print(\"Client derived shared secret:\", shared_secret.hex())\n",
    "    \n",
    "    decrypt_text = decrypt(client.recv(1024),shared_secret.hex())\n",
    "    msg,hashcode=decrypt_text.split('***')\n",
    "    hash2=hash512(msg)\n",
    "    \n",
    "    if(hash2 == hashcode):\n",
    "        print('Integrity is maintained!')\n",
    "        print(\"Your message: \",msg)\n",
    "    else:\n",
    "        print('No Integrity')\n",
    "    client.close()\n",
    "\n",
    "client()"
   ]
  },
  {
   "cell_type": "code",
   "execution_count": null,
   "id": "4fab6d93",
   "metadata": {},
   "outputs": [],
   "source": []
  }
 ],
 "metadata": {
  "kernelspec": {
   "display_name": "Python 3 (ipykernel)",
   "language": "python",
   "name": "python3"
  },
  "language_info": {
   "codemirror_mode": {
    "name": "ipython",
    "version": 3
   },
   "file_extension": ".py",
   "mimetype": "text/x-python",
   "name": "python",
   "nbconvert_exporter": "python",
   "pygments_lexer": "ipython3",
   "version": "3.11.4"
  }
 },
 "nbformat": 4,
 "nbformat_minor": 5
}
