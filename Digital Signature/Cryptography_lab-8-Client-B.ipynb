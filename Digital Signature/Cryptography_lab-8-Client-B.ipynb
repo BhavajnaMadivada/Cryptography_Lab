{
 "cells": [
  {
   "cell_type": "code",
   "execution_count": 1,
   "id": "543533d9",
   "metadata": {},
   "outputs": [
    {
     "name": "stdout",
     "output_type": "stream",
     "text": [
      "[Server Reply]: Signature Validity -> True\n"
     ]
    }
   ],
   "source": [
    "import socket\n",
    "import pickle\n",
    "import random\n",
    "import hashlib\n",
    "from py_ecc.bls.ciphersuites import G2ProofOfPossession as ciphersuite\n",
    "from py_ecc.optimized_bls12_381 import curve_order\n",
    "\n",
    "def hash_message(message):\n",
    "    return hashlib.sha256(message.encode()).digest()\n",
    "\n",
    "# === Key generation ===\n",
    "sk = random.randint(1, curve_order - 1)\n",
    "pk = ciphersuite.SkToPk(sk)\n",
    "\n",
    "# === Message ===\n",
    "message = \"Hello from Client B!\"\n",
    "signature = ciphersuite.Sign(sk, hash_message(message))\n",
    "\n",
    "# === Send to Verifier Server ===\n",
    "data = {\n",
    "    'public_key': pk,\n",
    "    'message': message,\n",
    "    'signature': signature\n",
    "}\n",
    "\n",
    "client = socket.socket(socket.AF_INET, socket.SOCK_STREAM)\n",
    "client.connect((\"localhost\", 5000))\n",
    "client.send(pickle.dumps(data))\n",
    "\n",
    "# === Receive result ===\n",
    "result = client.recv(1024)\n",
    "print(\"[Server Reply]: Signature Validity ->\", result.decode())\n",
    "client.close()\n"
   ]
  },
  {
   "cell_type": "code",
   "execution_count": null,
   "id": "e484f32c",
   "metadata": {},
   "outputs": [],
   "source": []
  },
  {
   "cell_type": "code",
   "execution_count": null,
   "id": "5fa044de",
   "metadata": {},
   "outputs": [],
   "source": []
  }
 ],
 "metadata": {
  "kernelspec": {
   "display_name": "Python 3 (ipykernel)",
   "language": "python",
   "name": "python3"
  },
  "language_info": {
   "codemirror_mode": {
    "name": "ipython",
    "version": 3
   },
   "file_extension": ".py",
   "mimetype": "text/x-python",
   "name": "python",
   "nbconvert_exporter": "python",
   "pygments_lexer": "ipython3",
   "version": "3.11.4"
  }
 },
 "nbformat": 4,
 "nbformat_minor": 5
}
