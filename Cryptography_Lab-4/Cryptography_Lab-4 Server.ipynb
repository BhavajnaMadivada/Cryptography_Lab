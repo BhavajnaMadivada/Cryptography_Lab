{
 "cells": [
  {
   "cell_type": "markdown",
   "id": "6d472c31",
   "metadata": {},
   "source": [
    "## RC4 Algorithm - Server"
   ]
  },
  {
   "cell_type": "code",
   "execution_count": 3,
   "id": "c46189b7",
   "metadata": {},
   "outputs": [
    {
     "name": "stdout",
     "output_type": "stream",
     "text": [
      "Server is listening for connections...\n",
      "Connection received from ('127.0.0.1', 55073)\n",
      "Before decrytion:  b\"|\\xd1U.\\xd5&v\\xcb\\x973T5\\x8d\\xa3'\\xe2\\xc4\\x83\\x95\\xceQ\\xffY\\\\_J\\xa4\"\n",
      "After Decryption : hiii\n",
      "This is Secret text!!!\n"
     ]
    }
   ],
   "source": [
    "import socket\n",
    "from Crypto.Cipher import ARC4\n",
    "\n",
    "key=b'SecretKey'\n",
    "\n",
    "def decrypt_text(encrypted_text):\n",
    "    cipher = ARC4.new(key)\n",
    "    decrypted_bytes = cipher.decrypt(encrypted_text)\n",
    "    return decrypted_bytes.decode(errors=\"ignore\")\n",
    "\n",
    "server = socket.socket(socket.AF_INET, socket.SOCK_STREAM)\n",
    "server.bind((\"127.0.0.1\", 12345))\n",
    "server.listen(1)\n",
    "\n",
    "print(\"Server is listening for connections...\")\n",
    "conn, addr = server.accept()\n",
    "print(f\"Connection received from {addr}\")\n",
    "data_before=conn.recv(1024)\n",
    "print(\"Before decrytion: \",data_before)\n",
    "with open(\"encrypted_rc4.txt\",\"w\") as file_name:\n",
    "    file_name.write(str(data_before))\n",
    "file_name.close()\n",
    "data = decrypt_text(data_before)\n",
    "\n",
    "conn.send(\"ack\".encode())\n",
    "print(\"After Decryption :\",data)\n",
    "with open(\"decrypted_rc4.txt\",'w') as file:\n",
    "    file.write(data)\n",
    "file.close()\n",
    "\n",
    "\n",
    "conn.close()\n",
    "server.close()\n"
   ]
  }
 ],
 "metadata": {
  "kernelspec": {
   "display_name": "Python 3 (ipykernel)",
   "language": "python",
   "name": "python3"
  },
  "language_info": {
   "codemirror_mode": {
    "name": "ipython",
    "version": 3
   },
   "file_extension": ".py",
   "mimetype": "text/x-python",
   "name": "python",
   "nbconvert_exporter": "python",
   "pygments_lexer": "ipython3",
   "version": "3.11.4"
  }
 },
 "nbformat": 4,
 "nbformat_minor": 5
}
