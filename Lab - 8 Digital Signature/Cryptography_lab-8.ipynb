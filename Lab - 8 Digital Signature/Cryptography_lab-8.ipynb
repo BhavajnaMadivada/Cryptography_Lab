{
 "cells": [
  {
   "cell_type": "code",
   "execution_count": null,
   "id": "543533d9",
   "metadata": {},
   "outputs": [
    {
     "name": "stdout",
     "output_type": "stream",
     "text": [
      "[*] Verifier Server running on port 5000...\n",
      "[+] Connection from ('127.0.0.1', 64962)\n",
      "[('127.0.0.1', 64962)] Message: 'Greetings from Client A!' | Signature Valid: True\n",
      "[+] Connection from ('127.0.0.1', 64963)\n",
      "[('127.0.0.1', 64963)] Message: 'Hello from Client B!' | Signature Valid: True\n"
     ]
    }
   ],
   "source": [
    "import socket\n",
    "import threading\n",
    "import pickle\n",
    "import hashlib\n",
    "from py_ecc.bls.ciphersuites import G2ProofOfPossession as ciphersuite\n",
    "\n",
    "def hash_message(message):\n",
    "    return hashlib.sha256(message.encode()).digest()\n",
    "\n",
    "def handle_client(client_socket, address):\n",
    "    print(f\"[+] Connection from {address}\")\n",
    "\n",
    "    try:\n",
    "        data = client_socket.recv(4096)\n",
    "        received = pickle.loads(data)\n",
    "\n",
    "        public_key = received['public_key']\n",
    "        message = received['message']\n",
    "        signature = received['signature']\n",
    "\n",
    "        is_valid = ciphersuite.Verify(public_key, hash_message(message), signature)\n",
    "        print(f\"[{address}] Message: '{message}' | Signature Valid: {is_valid}\")\n",
    "\n",
    "        client_socket.send(str(is_valid).encode())\n",
    "    except Exception as e:\n",
    "        print(f\"[!] Error handling client {address}: {e}\")\n",
    "        client_socket.send(str(False).encode())\n",
    "    finally:\n",
    "        client_socket.close()\n",
    "\n",
    "def start_server():\n",
    "    server = socket.socket(socket.AF_INET, socket.SOCK_STREAM)\n",
    "    server.bind((\"localhost\", 5000))\n",
    "    server.listen(5)\n",
    "    print(\"[*] Verifier Server running on port 5000...\")\n",
    "\n",
    "    while True:\n",
    "        client_socket, addr = server.accept()\n",
    "        thread = threading.Thread(target=handle_client, args=(client_socket, addr))\n",
    "        thread.start()\n",
    "\n",
    "if __name__ == \"__main__\":\n",
    "    start_server()"
   ]
  },
  {
   "cell_type": "code",
   "execution_count": null,
   "id": "e484f32c",
   "metadata": {},
   "outputs": [],
   "source": []
  },
  {
   "cell_type": "code",
   "execution_count": null,
   "id": "5fa044de",
   "metadata": {},
   "outputs": [],
   "source": []
  }
 ],
 "metadata": {
  "kernelspec": {
   "display_name": "Python 3 (ipykernel)",
   "language": "python",
   "name": "python3"
  },
  "language_info": {
   "codemirror_mode": {
    "name": "ipython",
    "version": 3
   },
   "file_extension": ".py",
   "mimetype": "text/x-python",
   "name": "python",
   "nbconvert_exporter": "python",
   "pygments_lexer": "ipython3",
   "version": "3.11.4"
  }
 },
 "nbformat": 4,
 "nbformat_minor": 5
}
