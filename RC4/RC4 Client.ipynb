{
 "cells": [
  {
   "cell_type": "markdown",
   "id": "4f78669a",
   "metadata": {},
   "source": [
    "## RC4 Algorithm - Client"
   ]
  },
  {
   "cell_type": "code",
   "execution_count": 4,
   "id": "c46189b7",
   "metadata": {},
   "outputs": [
    {
     "name": "stdout",
     "output_type": "stream",
     "text": [
      "Connected to server.\n",
      "Enter file name to send: secret.txt\n",
      "Server: ack\n"
     ]
    }
   ],
   "source": [
    "from Crypto.Cipher import ARC4\n",
    "import socket\n",
    "\n",
    "key=b'SecretKey'\n",
    "\n",
    "def encrypt_file(message, key):\n",
    "    cipher = ARC4.new(key)\n",
    "    return cipher.encrypt(message.encode())\n",
    "\n",
    "client = socket.socket(socket.AF_INET, socket.SOCK_STREAM)\n",
    "client.connect((\"127.0.0.1\", 12345))\n",
    "\n",
    "print(\"Connected to server.\")\n",
    "\n",
    "file_name=input(\"Enter file name to send: \").lower()\n",
    "file=open(file_name,'r')\n",
    "message=file.read()\n",
    "encrypted_msg=encrypt_file(message,key)\n",
    "client.send(encrypted_msg)  \n",
    "\n",
    "response = client.recv(1024).decode()\n",
    "print(\"Server:\", response)\n",
    "\n",
    "client.close()"
   ]
  }
 ],
 "metadata": {
  "kernelspec": {
   "display_name": "Python 3 (ipykernel)",
   "language": "python",
   "name": "python3"
  },
  "language_info": {
   "codemirror_mode": {
    "name": "ipython",
    "version": 3
   },
   "file_extension": ".py",
   "mimetype": "text/x-python",
   "name": "python",
   "nbconvert_exporter": "python",
   "pygments_lexer": "ipython3",
   "version": "3.11.4"
  }
 },
 "nbformat": 4,
 "nbformat_minor": 5
}
