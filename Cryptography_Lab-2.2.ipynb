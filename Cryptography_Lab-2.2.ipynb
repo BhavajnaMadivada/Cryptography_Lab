{
 "cells": [
  {
   "cell_type": "markdown",
   "id": "2a76ab8d",
   "metadata": {},
   "source": [
    "# Advanced Encryption Standard"
   ]
  },
  {
   "cell_type": "markdown",
   "id": "c8f2f740",
   "metadata": {},
   "source": [
    "**1. Implement AES using the available library to encrypt and decrypt a given plain text file.**"
   ]
  },
  {
   "cell_type": "code",
   "execution_count": 1,
   "id": "250dc4be",
   "metadata": {},
   "outputs": [],
   "source": [
    "from Crypto.Cipher import AES\n",
    "from Crypto.Util.Padding import pad, unpad\n",
    "import os"
   ]
  },
  {
   "cell_type": "code",
   "execution_count": 2,
   "id": "e40d3362",
   "metadata": {},
   "outputs": [],
   "source": [
    "def encrypt_file(input_file, output_file):\n",
    "    with open(input_file, \"rb\") as f:\n",
    "        text=f.read()\n",
    "    cipher = AES.new(key, AES.MODE_CBC, iv)\n",
    "    cipher_text = cipher.encrypt(pad(text, AES.block_size))\n",
    "    with open(output_file, \"wb\") as f:\n",
    "        f.write(cipher_text)\n",
    "    print(f\"\\nFile '{input_file}' encrypted successfully as '{output_file}'\")\n",
    "    \n",
    "    print(\"After Encryption : \",cipher_text)\n",
    "\n",
    "    \n",
    "def decrypt_file(input_file, output_file):\n",
    "    with open(input_file, \"rb\") as f:\n",
    "        cipher_text = f.read()\n",
    "    cipher = AES.new(key, AES.MODE_CBC, iv)\n",
    "    decrypted_data = unpad(cipher.decrypt(cipher_text), AES.block_size)\n",
    "    with open(output_file, \"wb\") as f:\n",
    "        f.write(decrypted_data)\n",
    "    print(f\"\\nFile '{input_file}' decrypted successfully as '{output_file}'\")\n",
    "    \n",
    "    print(\"After Decryption : \\n\",decrypted_data.decode())\n",
    "  "
   ]
  },
  {
   "cell_type": "code",
   "execution_count": 3,
   "id": "80262204",
   "metadata": {},
   "outputs": [
    {
     "name": "stdout",
     "output_type": "stream",
     "text": [
      "Enter the filename (path) to encrypt : secret.txt\n",
      "\n",
      "File 'secret.txt' encrypted successfully as 'encrypted.aes'\n",
      "After Encryption :  b'\\xb35\\n\\x10\\x9a\\xcd\\xa0\\xb8Y\\xf8:\\x88-4\\x99\\xca\\xe1\\xc3\\xb1g\\xf8\\xf4\\xea\\x1a\\x19Y\\xe5\\xd3\\x0b\\x14+\\x8e'\n",
      "\n",
      "File 'encrypted.aes' decrypted successfully as 'decrypted.txt'\n",
      "After Decryption : \n",
      " hiii\n",
      "This is Secret text!!!\n"
     ]
    }
   ],
   "source": [
    "key = b\"ThisIsASecretKey12345678\"\n",
    "iv = b\"InitializationVe\"\n",
    "\n",
    "filename=input(\"Enter the filename (path) to encrypt : \")\n",
    "encrypt_file(filename, \"encrypted.aes\")\n",
    "decrypt_file(\"encrypted.aes\", \"decrypted.txt\")"
   ]
  },
  {
   "cell_type": "markdown",
   "id": "34ae6c51",
   "metadata": {},
   "source": [
    "**2. Extend the program (2) to encrypt and decrypt a given file.**"
   ]
  },
  {
   "cell_type": "code",
   "execution_count": 4,
   "id": "b48c13d8",
   "metadata": {},
   "outputs": [],
   "source": [
    "def encrypt_file(input_file):\n",
    "    with open(input_file, \"rb\") as f:\n",
    "        data = f.read()\n",
    "    cipher = AES.new(key, AES.MODE_CBC, iv)\n",
    "    cipher_text = cipher.encrypt(pad(data, AES.block_size))\n",
    "    output_file = input_file + \".enc\"\n",
    "    with open(output_file, \"wb\") as f:\n",
    "        f.write(cipher_text)\n",
    "    print(f\"Encryption successful: {output_file}\")\n",
    "\n",
    "    \n",
    "def decrypt_file(input_file):\n",
    "    with open(input_file, \"rb\") as f:\n",
    "        cipher_text = f.read()\n",
    "    cipher = AES.new(key, AES.MODE_CBC, iv)\n",
    "    decrypted_data = unpad(cipher.decrypt(cipher_text), AES.block_size)\n",
    "    output_file = \"decrypted_\" + os.path.splitext(input_file)[0] \n",
    "    \n",
    "    with open(output_file, \"wb\") as f:\n",
    "        f.write(decrypted_data)\n",
    "    print(f\"Decryption successful: {output_file}\")"
   ]
  },
  {
   "cell_type": "code",
   "execution_count": 5,
   "id": "9a84e999",
   "metadata": {},
   "outputs": [
    {
     "name": "stdout",
     "output_type": "stream",
     "text": [
      "\n",
      "1. Encrypt a file\n",
      "2. Decrypt a file\n",
      "3. Exit\n",
      "Enter your choice : 1\n",
      "Enter the file name to encrypt: Cryptography_Lab-3 Client.ipynb\n",
      "Encryption successful: Cryptography_Lab-3 Client.ipynb.enc\n",
      "\n",
      "1. Encrypt a file\n",
      "2. Decrypt a file\n",
      "3. Exit\n",
      "Enter your choice : 2\n",
      "Enter the encrypted file name to decrypt: Cryptography_Lab-3 Client.ipynb.enc\n",
      "Decryption successful: decrypted_Cryptography_Lab-3 Client.ipynb\n",
      "\n",
      "1. Encrypt a file\n",
      "2. Decrypt a file\n",
      "3. Exit\n",
      "Enter your choice : 3\n",
      "Exiting...\n"
     ]
    }
   ],
   "source": [
    "while True:\n",
    "    print(\"\\n1. Encrypt a file\\n2. Decrypt a file\\n3. Exit\")\n",
    "    choice = input(\"Enter your choice : \")\n",
    "\n",
    "    if choice == \"1\":\n",
    "        encrypt_file(input(\"Enter the file name to encrypt: \").strip())\n",
    "    elif choice == \"2\":\n",
    "        decrypt_file(input(\"Enter the encrypted file name to decrypt: \").strip())\n",
    "    elif choice == \"3\":\n",
    "        print(\"Exiting...\")\n",
    "        break\n",
    "    else:\n",
    "        print(\"Invalid selection. Please choose 1, 2, or 3.\")\n"
   ]
  }
 ],
 "metadata": {
  "kernelspec": {
   "display_name": "Python 3 (ipykernel)",
   "language": "python",
   "name": "python3"
  },
  "language_info": {
   "codemirror_mode": {
    "name": "ipython",
    "version": 3
   },
   "file_extension": ".py",
   "mimetype": "text/x-python",
   "name": "python",
   "nbconvert_exporter": "python",
   "pygments_lexer": "ipython3",
   "version": "3.11.4"
  }
 },
 "nbformat": 4,
 "nbformat_minor": 5
}
